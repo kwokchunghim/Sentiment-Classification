{
  "cells": [
    {
      "cell_type": "markdown",
      "metadata": {
        "id": "view-in-github",
        "colab_type": "text"
      },
      "source": [
        "<a href=\"https://colab.research.google.com/github/kwokchunghim/Sentiment-Classification/blob/main/SemEval_2017_(Task_4).ipynb\" target=\"_parent\"><img src=\"https://colab.research.google.com/assets/colab-badge.svg\" alt=\"Open In Colab\"/></a>"
      ]
    },
    {
      "cell_type": "markdown",
      "metadata": {
        "id": "0es7h1XigLt0"
      },
      "source": [
        "#### Import necessary packages\n",
        "You may import more packages here."
      ]
    },
    {
      "cell_type": "code",
      "execution_count": null,
      "metadata": {
        "id": "VrIlN6M4g2Hx",
        "colab": {
          "base_uri": "https://localhost:8080/"
        },
        "outputId": "27f274d7-b1d6-474d-9b09-5db7a26ecbf4"
      },
      "outputs": [
        {
          "output_type": "stream",
          "name": "stdout",
          "text": [
            "Drive already mounted at /content/drive; to attempt to forcibly remount, call drive.mount(\"/content/drive\", force_remount=True).\n"
          ]
        }
      ],
      "source": [
        "#Run this cell only when using colab\n",
        "from google.colab import drive\n",
        "drive.mount('/content/drive')"
      ]
    },
    {
      "cell_type": "code",
      "execution_count": null,
      "metadata": {
        "colab": {
          "base_uri": "https://localhost:8080/"
        },
        "id": "YH7VnSBsqJXe",
        "outputId": "a36da564-4834-4fda-f2b7-3a1bd6cbd68c"
      },
      "outputs": [
        {
          "output_type": "stream",
          "name": "stdout",
          "text": [
            "Looking in indexes: https://pypi.org/simple, https://us-python.pkg.dev/colab-wheels/public/simple/\n",
            "Requirement already satisfied: transformers in /usr/local/lib/python3.9/dist-packages (4.27.1)\n",
            "Requirement already satisfied: numpy>=1.17 in /usr/local/lib/python3.9/dist-packages (from transformers) (1.22.4)\n",
            "Requirement already satisfied: pyyaml>=5.1 in /usr/local/lib/python3.9/dist-packages (from transformers) (6.0)\n",
            "Requirement already satisfied: huggingface-hub<1.0,>=0.11.0 in /usr/local/lib/python3.9/dist-packages (from transformers) (0.13.2)\n",
            "Requirement already satisfied: filelock in /usr/local/lib/python3.9/dist-packages (from transformers) (3.9.1)\n",
            "Requirement already satisfied: regex!=2019.12.17 in /usr/local/lib/python3.9/dist-packages (from transformers) (2022.6.2)\n",
            "Requirement already satisfied: packaging>=20.0 in /usr/local/lib/python3.9/dist-packages (from transformers) (23.0)\n",
            "Requirement already satisfied: tokenizers!=0.11.3,<0.14,>=0.11.1 in /usr/local/lib/python3.9/dist-packages (from transformers) (0.13.2)\n",
            "Requirement already satisfied: requests in /usr/local/lib/python3.9/dist-packages (from transformers) (2.25.1)\n",
            "Requirement already satisfied: tqdm>=4.27 in /usr/local/lib/python3.9/dist-packages (from transformers) (4.65.0)\n",
            "Requirement already satisfied: typing-extensions>=3.7.4.3 in /usr/local/lib/python3.9/dist-packages (from huggingface-hub<1.0,>=0.11.0->transformers) (4.5.0)\n",
            "Requirement already satisfied: chardet<5,>=3.0.2 in /usr/local/lib/python3.9/dist-packages (from requests->transformers) (4.0.0)\n",
            "Requirement already satisfied: urllib3<1.27,>=1.21.1 in /usr/local/lib/python3.9/dist-packages (from requests->transformers) (1.26.15)\n",
            "Requirement already satisfied: certifi>=2017.4.17 in /usr/local/lib/python3.9/dist-packages (from requests->transformers) (2022.12.7)\n",
            "Requirement already satisfied: idna<3,>=2.5 in /usr/local/lib/python3.9/dist-packages (from requests->transformers) (2.10)\n"
          ]
        }
      ],
      "source": [
        "!pip install transformers"
      ]
    },
    {
      "cell_type": "code",
      "execution_count": null,
      "metadata": {
        "colab": {
          "base_uri": "https://localhost:8080/"
        },
        "id": "8mpbPy85gLt1",
        "outputId": "d06e5712-79ac-48fa-d160-45d2a53b2e26"
      },
      "outputs": [
        {
          "output_type": "stream",
          "name": "stderr",
          "text": [
            "[nltk_data] Downloading package punkt to /root/nltk_data...\n",
            "[nltk_data]   Package punkt is already up-to-date!\n",
            "[nltk_data] Downloading package wordnet to /root/nltk_data...\n",
            "[nltk_data]   Package wordnet is already up-to-date!\n",
            "[nltk_data] Downloading package omw-1.4 to /root/nltk_data...\n",
            "[nltk_data]   Package omw-1.4 is already up-to-date!\n",
            "[nltk_data] Downloading package averaged_perceptron_tagger to\n",
            "[nltk_data]     /root/nltk_data...\n",
            "[nltk_data]   Package averaged_perceptron_tagger is already up-to-\n",
            "[nltk_data]       date!\n",
            "[nltk_data] Downloading package stopwords to /root/nltk_data...\n",
            "[nltk_data]   Package stopwords is already up-to-date!\n"
          ]
        }
      ],
      "source": [
        "# Import necessary packages\n",
        "import re\n",
        "import os\n",
        "import copy\n",
        "from os.path import join\n",
        "import numpy as np\n",
        "import pandas as pd\n",
        "import nltk\n",
        "import matplotlib.pyplot as plt\n",
        "from nltk.corpus import stopwords\n",
        "from nltk.tokenize import TweetTokenizer\n",
        "from nltk.stem.porter import *\n",
        "from sklearn.naive_bayes import MultinomialNB\n",
        "from sklearn.preprocessing import LabelEncoder\n",
        "from sklearn.feature_extraction.text import TfidfVectorizer\n",
        "from nltk.corpus import wordnet as wn\n",
        "from nltk.stem import WordNetLemmatizer\n",
        "from collections import defaultdict\n",
        "from nltk import pos_tag\n",
        "from sklearn.svm import SVC\n",
        "import random\n",
        "from sklearn.linear_model import LogisticRegression\n",
        "from sklearn.neighbors import KNeighborsClassifier\n",
        "import torch\n",
        "import torch.nn as nn\n",
        "import torchtext\n",
        "from torchtext import data\n",
        "from torchtext.data import get_tokenizer\n",
        "from torchtext.vocab import build_vocab_from_iterator\n",
        "from torch.utils.data import TensorDataset, DataLoader, Dataset\n",
        "import transformers\n",
        "nltk.download('punkt')\n",
        "nltk.download('wordnet')\n",
        "nltk.download('omw-1.4')\n",
        "nltk.download('averaged_perceptron_tagger')\n",
        "nltk.download('stopwords')\n",
        "%matplotlib inline"
      ]
    },
    {
      "cell_type": "code",
      "execution_count": null,
      "metadata": {
        "id": "abL_pYJTFhJU"
      },
      "outputs": [],
      "source": [
        "#Set current working directory to '/content/drive/MyDrive/CS918 Assignment 2'\n",
        "os.chdir('/content/drive/MyDrive/CS918 Assignment 2')"
      ]
    },
    {
      "cell_type": "code",
      "execution_count": null,
      "metadata": {
        "id": "glLLgcgtgLt2"
      },
      "outputs": [],
      "source": [
        "# Define test sets\n",
        "testsets = ['twitter-test1.txt', 'twitter-test2.txt', 'twitter-test3.txt']"
      ]
    },
    {
      "cell_type": "code",
      "execution_count": null,
      "metadata": {
        "id": "fYH3CrSqgLt2"
      },
      "outputs": [],
      "source": [
        "# Skeleton: Evaluation code for the test sets\n",
        "def read_test(testset):\n",
        "    '''\n",
        "    readin the testset and return a dictionary\n",
        "    :param testset: str, the file name of the testset to compare\n",
        "    '''\n",
        "    id_gts = {}\n",
        "    with open(testset, 'r', encoding='utf8') as fh:\n",
        "        for line in fh:\n",
        "            fields = line.split('\\t')\n",
        "            tweetid = fields[0]\n",
        "            gt = fields[1]\n",
        "\n",
        "            id_gts[tweetid] = gt\n",
        "\n",
        "    return id_gts\n",
        "\n",
        "\n",
        "def confusion(id_preds, testset, classifier):\n",
        "    '''\n",
        "    print the confusion matrix of {'positive', 'negative'} between preds and testset\n",
        "    :param id_preds: a dictionary of predictions formated as {<tweetid>:<sentiment>, ... }\n",
        "    :param testset: str, the file name of the testset to compare\n",
        "    :classifier: str, the name of the classifier\n",
        "    '''\n",
        "    id_gts = read_test(testset)\n",
        "\n",
        "    gts = []\n",
        "    for m, c1 in id_gts.items():\n",
        "        if c1 not in gts:\n",
        "            gts.append(c1)\n",
        "\n",
        "    gts = ['positive', 'negative', 'neutral']\n",
        "\n",
        "    conf = {}\n",
        "    for c1 in gts:\n",
        "        conf[c1] = {}\n",
        "        for c2 in gts:\n",
        "            conf[c1][c2] = 0\n",
        "\n",
        "    for tweetid, gt in id_gts.items():\n",
        "        if tweetid in id_preds:\n",
        "            pred = id_preds[tweetid]\n",
        "        else:\n",
        "            pred = 'neutral'\n",
        "        conf[pred][gt] += 1\n",
        "\n",
        "    print(''.ljust(12) + '  '.join(gts))\n",
        "\n",
        "    for c1 in gts:\n",
        "        print(c1.ljust(12), end='')\n",
        "        for c2 in gts:\n",
        "            if sum(conf[c1].values()) > 0:\n",
        "                print('%.3f     ' % (conf[c1][c2] / float(sum(conf[c1].values()))), end='')\n",
        "            else:\n",
        "                print('0.000     ', end='')\n",
        "        print('')\n",
        "\n",
        "    print('')\n",
        "\n",
        "\n",
        "def evaluate(id_preds, testset, classifier):\n",
        "    '''\n",
        "    print the macro-F1 score of {'positive', 'netative'} between preds and testset\n",
        "    :param id_preds: a dictionary of predictions formated as {<tweetid>:<sentiment>, ... }\n",
        "    :param testset: str, the file name of the testset to compare\n",
        "    :classifier: str, the name of the classifier\n",
        "    '''\n",
        "    id_gts = read_test(testset)\n",
        "\n",
        "    acc_by_class = {}\n",
        "    for gt in ['positive', 'negative', 'neutral']:\n",
        "        acc_by_class[gt] = {'tp': 0, 'fp': 0, 'tn': 0, 'fn': 0}\n",
        "\n",
        "    catf1s = {}\n",
        "\n",
        "    ok = 0\n",
        "    for tweetid, gt in id_gts.items():\n",
        "        if tweetid in id_preds:\n",
        "            pred = id_preds[tweetid]\n",
        "        else:\n",
        "            pred = 'neutral'\n",
        "\n",
        "        if gt == pred:\n",
        "            ok += 1\n",
        "            acc_by_class[gt]['tp'] += 1\n",
        "        else:\n",
        "            acc_by_class[gt]['fn'] += 1\n",
        "            acc_by_class[pred]['fp'] += 1\n",
        "\n",
        "    catcount = 0\n",
        "    itemcount = 0\n",
        "    macro = {'p': 0, 'r': 0, 'f1': 0}\n",
        "    micro = {'p': 0, 'r': 0, 'f1': 0}\n",
        "    semevalmacro = {'p': 0, 'r': 0, 'f1': 0}\n",
        "\n",
        "    microtp = 0\n",
        "    microfp = 0\n",
        "    microtn = 0\n",
        "    microfn = 0\n",
        "    for cat, acc in acc_by_class.items():\n",
        "        catcount += 1\n",
        "\n",
        "        microtp += acc['tp']\n",
        "        microfp += acc['fp']\n",
        "        microtn += acc['tn']\n",
        "        microfn += acc['fn']\n",
        "\n",
        "        p = 0\n",
        "        if (acc['tp'] + acc['fp']) > 0:\n",
        "            p = float(acc['tp']) / (acc['tp'] + acc['fp'])\n",
        "\n",
        "        r = 0\n",
        "        if (acc['tp'] + acc['fn']) > 0:\n",
        "            r = float(acc['tp']) / (acc['tp'] + acc['fn'])\n",
        "\n",
        "        f1 = 0\n",
        "        if (p + r) > 0:\n",
        "            f1 = 2 * p * r / (p + r)\n",
        "\n",
        "        catf1s[cat] = f1\n",
        "\n",
        "        n = acc['tp'] + acc['fn']\n",
        "\n",
        "        macro['p'] += p\n",
        "        macro['r'] += r\n",
        "        macro['f1'] += f1\n",
        "\n",
        "        if cat in ['positive', 'negative']:\n",
        "            semevalmacro['p'] += p\n",
        "            semevalmacro['r'] += r\n",
        "            semevalmacro['f1'] += f1\n",
        "\n",
        "        itemcount += n\n",
        "\n",
        "    micro['p'] = float(microtp) / float(microtp + microfp)\n",
        "    micro['r'] = float(microtp) / float(microtp + microfn)\n",
        "    micro['f1'] = 2 * float(micro['p']) * micro['r'] / float(micro['p'] + micro['r'])\n",
        "\n",
        "    semevalmacrof1 = semevalmacro['f1'] / 2\n",
        "\n",
        "    print(testset + ' (' + classifier + '): %.3f' % semevalmacrof1)\n"
      ]
    },
    {
      "cell_type": "markdown",
      "metadata": {
        "id": "FX1mjdETgLt5"
      },
      "source": [
        "#### Load training set, dev set and testing set\n",
        "Here, you need to load the training set, the development set and the test set. For better classification results, you may need to preprocess tweets before sending them to the classifiers."
      ]
    },
    {
      "cell_type": "code",
      "execution_count": null,
      "metadata": {
        "id": "jYIxbT7GgLt6"
      },
      "outputs": [],
      "source": [
        "# Load training set, dev set and testing set\n",
        "data = {}\n",
        "tweetids = {}\n",
        "tweetgts = {}\n",
        "tweets = {}\n",
        "\n",
        "for dataset in ['twitter-training-data.txt', 'twitter-dev-data.txt'] + testsets:\n",
        "    dataset_path = join('semeval-tweets', dataset)\n",
        "\n",
        "    data[dataset] = []\n",
        "    tweets[dataset] = []\n",
        "    tweetids[dataset] = []\n",
        "    tweetgts[dataset] = []\n",
        "    # write code to read in the datasets here\n",
        "    \n",
        "    with open(dataset_path, 'r', encoding='utf8') as f:\n",
        "        for line in f:\n",
        "            fields = line.split('\\t')\n",
        "            tweetids[dataset].append(fields[0])\n",
        "            tweetgts[dataset].append(fields[1])\n",
        "            tweets[dataset].append(fields[2].rstrip(\"\\n\"))  #remove line breaks\n",
        "            data[dataset].append(fields)"
      ]
    },
    {
      "cell_type": "markdown",
      "metadata": {
        "id": "Fg1gtAeqjbxE"
      },
      "source": [
        "## 1. Word Preprocessing\n",
        "\n",
        "We remove URLs, hashtags, user mentions, non-alphabetical characters (except spaces) as we believe that they do not contain muuch sentiment information. Then we tokenize the sentences, lower-case the words and use a Porter Stemmer for word stemming."
      ]
    },
    {
      "cell_type": "code",
      "execution_count": null,
      "metadata": {
        "id": "ahtEYJWzyUjH"
      },
      "outputs": [],
      "source": [
        "#POS Map to WordNet if lemmatising is used\n",
        "pos_tag_map = defaultdict(lambda : wn.NOUN)\n",
        "pos_tag_map['J'] = wn.ADJ\n",
        "pos_tag_map['V'] = wn.VERB\n",
        "pos_tag_map['R'] = wn.ADV\n",
        "\n",
        "#Instantiate lemmatizer, stemmer, and tokenizer\n",
        "lemmatizer = WordNetLemmatizer()\n",
        "stemmer = PorterStemmer()\n",
        "tk = TweetTokenizer()\n",
        "\n",
        "#Preprossing before embedding \n",
        "def word_preprocess(X, stemming=True, joining=True):\n",
        "\n",
        "    #Instantiate tokenizer for our tweets\n",
        "    tokenizer = get_tokenizer(\"basic_english\")\n",
        "    #Remove url\n",
        "    X_temp = [re.sub('https?:\\/\\/\\S+|www\\.(\\w+\\.)+\\S+', ' ', X[i]) for i in range(len(X))]\n",
        "    #Remove usermention\n",
        "    X_temp = [re.sub('@\\S*', ' ', X_temp[i]) for i in range(len(X_temp))]\n",
        "    #Remove hashtag\n",
        "    X_temp = [re.sub('#\\S*', ' ', X_temp[i]) for i in range(len(X_temp))]\n",
        "    #Remove special characters and punctuations\n",
        "    X_temp = [re.sub('[^A-Za-z0-9 ]+', ' ', X_temp[i]) for i in range(len(X_temp))]\n",
        "    #Tokenize sentences \n",
        "    X_temp = [tokenizer(X_temp[i]) for i in range(len(X_temp))]\n",
        "    #Lowercase (as GloVe contains most words in lowercase e.g. thursday)\n",
        "    X_temp = [[word.lower() for word in X_temp[i]] for i in range(len(X_temp))]\n",
        "    #Stemming with Porter Stemming\n",
        "    if stemming:\n",
        "        X_temp = [[stemmer.stem(word) for word in X_temp[i]] for i in range(len(X_temp))]\n",
        "    #Or lemmatizing\n",
        "    else:\n",
        "        for i in range(len(X_temp)):\n",
        "            for k, (word, tag) in enumerate(pos_tag(X_temp[i])):\n",
        "                if word not in stopwords.words('english'):\n",
        "                    new_word = lemmatizer.lemmatize(word, pos_tag_map[tag[0]])\n",
        "                    X_temp[i][k] = new_word\n",
        "                else:\n",
        "                    X_temp[i][k] = \"\"\n",
        "    #Join them back\n",
        "    if joining == True:\n",
        "        X_temp = [' '.join(X_temp[i]) for i in range(len(X_temp))]\n",
        "\n",
        "    return X_temp"
      ]
    },
    {
      "cell_type": "markdown",
      "metadata": {
        "id": "pFVEH5UXsssG"
      },
      "source": [
        "## 2. Vectorize tokens and model training\n",
        "\n",
        "We first encode the labels with a LabelEncoder for classification task. Then we use a tf-idf vectorizer (which is a bag-of-words approach), to represent our tokens in a large sparse matrix. Then we fit the model with a Multinomial Naive Bayes model and make predictions on the developing set. "
      ]
    },
    {
      "cell_type": "code",
      "execution_count": null,
      "metadata": {
        "id": "Il_XAqAmN0q-"
      },
      "outputs": [],
      "source": [
        "#Load training and validation data (and test data later)\n",
        "X_train = tweets['twitter-training-data.txt']\n",
        "X_val = tweets['twitter-dev-data.txt']"
      ]
    },
    {
      "cell_type": "code",
      "execution_count": null,
      "metadata": {
        "id": "s8XNp4WpOImn"
      },
      "outputs": [],
      "source": [
        "#Preprocess data \n",
        "X_train_bow = word_preprocess(X_train)\n",
        "X_val_bow = word_preprocess(X_val)"
      ]
    },
    {
      "cell_type": "code",
      "execution_count": null,
      "metadata": {
        "id": "8Nss7EgPwVd7"
      },
      "outputs": [],
      "source": [
        "#Encode our labels (gts)\n",
        "Encoder = LabelEncoder()\n",
        "\n",
        "y_train = tweetgts['twitter-training-data.txt']\n",
        "y_val = tweetgts['twitter-dev-data.txt']\n",
        "\n",
        "\n",
        "y_train = Encoder.fit_transform(y_train)\n",
        "y_val = Encoder.fit_transform(y_val)"
      ]
    },
    {
      "cell_type": "markdown",
      "metadata": {
        "id": "dD-8MhJySDzN"
      },
      "source": [
        "## Bag of Words Approach\n",
        "\n",
        "We first develop two models with a Bag-of-Word (BoW) appraoch. We create sparse matrices with the TD-IDF vectorizer, and fit the data to a Naive Bayes Model and a Logistic Regression Model respectively."
      ]
    },
    {
      "cell_type": "code",
      "execution_count": null,
      "metadata": {
        "id": "aro3C9pqSbCK"
      },
      "outputs": [],
      "source": [
        "def bow_train(X_train, X_val, y_train, y_val, model):\n",
        "    #Instantiate tf-idf vectorizer\n",
        "    tfidf_vector = TfidfVectorizer()\n",
        "\n",
        "    #Fit the tf-idf into our training data\n",
        "    tfidf_vector.fit(X_train)\n",
        "\n",
        "    #Transform both training and dev data\n",
        "    X_train = tfidf_vector.transform(X_train)\n",
        "    X_val = tfidf_vector.transform(X_val)\n",
        "\n",
        "    #Fit our model\n",
        "    model.fit(X_train, y_train)\n",
        "\n",
        "    #Make predictions on our developing data and transform it back to the original label\n",
        "    pred = model.predict(X_val)\n",
        "    pred = Encoder.inverse_transform(pred)\n",
        "\n",
        "    #Zip the two lists of ids and our predictions into a single dictionary for evaludation\n",
        "    id_preds = {tweetids['twitter-dev-data.txt'][i]: pred[i] for i in range(len(pred))}\n",
        "\n",
        "    return id_preds"
      ]
    },
    {
      "cell_type": "code",
      "execution_count": null,
      "metadata": {
        "id": "raJIscoyd7RL"
      },
      "outputs": [],
      "source": [
        "#Instantiate Naive Bayes Classifier model\n",
        "nbc = MultinomialNB(fit_prior=False)\n",
        "\n",
        "#Logistic Regression\n",
        "lr = LogisticRegression(multi_class='multinomial', max_iter=3000, random_state=42)\n",
        "\n",
        "#K-nearest Neighbor\n",
        "knn = KNeighborsClassifier(n_neighbors=20)"
      ]
    },
    {
      "cell_type": "code",
      "execution_count": null,
      "metadata": {
        "id": "P0T1DmrFThra"
      },
      "outputs": [],
      "source": [
        "#Make predictions for the 3 models\n",
        "nbc_preds = bow_train(X_train_bow, X_val_bow, y_train, y_val, nbc)\n",
        "lr_preds = bow_train(X_train_bow, X_val_bow, y_train, y_val, lr)\n",
        "knn_preds = bow_train(X_train_bow, X_val_bow, y_train, y_val, knn)"
      ]
    },
    {
      "cell_type": "code",
      "execution_count": null,
      "metadata": {
        "colab": {
          "base_uri": "https://localhost:8080/"
        },
        "id": "K3mZiKDyu1fL",
        "outputId": "4daa7cee-074a-475e-e6b8-3511444dc065"
      },
      "outputs": [
        {
          "output_type": "stream",
          "name": "stdout",
          "text": [
            "semeval-tweets/twitter-dev-data.txt (Naive Bayes): 0.581\n"
          ]
        }
      ],
      "source": [
        "#Evaluate the Naive Bayes model\n",
        "evaluate(nbc_preds, \"semeval-tweets/twitter-dev-data.txt\", \"Naive Bayes\")"
      ]
    },
    {
      "cell_type": "code",
      "execution_count": null,
      "metadata": {
        "colab": {
          "base_uri": "https://localhost:8080/"
        },
        "id": "p-wSZ49rUjii",
        "outputId": "1c26e8b3-6a42-444e-945c-767e0971ec81"
      },
      "outputs": [
        {
          "output_type": "stream",
          "name": "stdout",
          "text": [
            "semeval-tweets/twitter-dev-data.txt (KNN): 0.324\n"
          ]
        }
      ],
      "source": [
        "evaluate(knn_preds, \"semeval-tweets/twitter-dev-data.txt\", \"KNN\")"
      ]
    },
    {
      "cell_type": "code",
      "execution_count": null,
      "metadata": {
        "colab": {
          "base_uri": "https://localhost:8080/"
        },
        "id": "A3Jz2abQA5DY",
        "outputId": "5e094457-7d5e-48f2-eedb-1f3b8eff21a6"
      },
      "outputs": [
        {
          "output_type": "stream",
          "name": "stdout",
          "text": [
            "semeval-tweets/twitter-dev-data.txt (Logistic Regression): 0.609\n"
          ]
        }
      ],
      "source": [
        "evaluate(lr_preds, \"semeval-tweets/twitter-dev-data.txt\", \"Logistic Regression\")"
      ]
    },
    {
      "cell_type": "code",
      "execution_count": null,
      "metadata": {
        "colab": {
          "base_uri": "https://localhost:8080/"
        },
        "id": "ucQKkiMduM5p",
        "outputId": "bba5ce5c-9aad-4fb7-f5db-3284e1bf07e4"
      },
      "outputs": [
        {
          "output_type": "stream",
          "name": "stdout",
          "text": [
            "            positive  negative  neutral\n",
            "positive    0.615     0.073     0.312     \n",
            "negative    0.069     0.613     0.318     \n",
            "neutral     0.216     0.162     0.622     \n",
            "\n"
          ]
        }
      ],
      "source": [
        "#Also we evaluate our results with the confusion matrix\n",
        "\n",
        "confusion(nbc_preds, \"semeval-tweets/twitter-dev-data.txt\", \"Naive Bayes\")"
      ]
    },
    {
      "cell_type": "code",
      "execution_count": null,
      "metadata": {
        "colab": {
          "base_uri": "https://localhost:8080/"
        },
        "id": "rwp0QKcyKmoH",
        "outputId": "fdfc8e7f-d354-4b5a-8747-cd3059443c8e"
      },
      "outputs": [
        {
          "output_type": "stream",
          "name": "stdout",
          "text": [
            "            positive  negative  neutral\n",
            "positive    0.724     0.031     0.245     \n",
            "negative    0.062     0.674     0.264     \n",
            "neutral     0.218     0.163     0.619     \n",
            "\n"
          ]
        }
      ],
      "source": [
        "confusion(lr_preds, \"semeval-tweets/twitter-dev-data.txt\", \"Random\")"
      ]
    },
    {
      "cell_type": "code",
      "execution_count": null,
      "metadata": {
        "colab": {
          "base_uri": "https://localhost:8080/"
        },
        "id": "7aMvVrIRM0z-",
        "outputId": "05ead394-85e7-4209-8b96-0bc6f77ca8c2"
      },
      "outputs": [
        {
          "output_type": "stream",
          "name": "stdout",
          "text": [
            "            positive  negative  neutral\n",
            "positive    0.734     0.056     0.211     \n",
            "negative    0.101     0.595     0.304     \n",
            "neutral     0.292     0.194     0.514     \n",
            "\n"
          ]
        }
      ],
      "source": [
        "confusion(knn_preds, \"semeval-tweets/twitter-dev-data.txt\", \"Logistic Regression\")"
      ]
    },
    {
      "cell_type": "markdown",
      "metadata": {
        "id": "NDyXSJyk7a4C"
      },
      "source": [
        "### Sentence embeddings\n",
        "\n",
        "We attempt to improve our model performance with BERT sentence embeddings. We perform minimum sentence preprocessing to prevent information loss."
      ]
    },
    {
      "cell_type": "code",
      "execution_count": null,
      "metadata": {
        "colab": {
          "base_uri": "https://localhost:8080/"
        },
        "id": "VpW2TupY7rJd",
        "outputId": "c4161567-dea7-4239-9e06-8db70d3bdbd9"
      },
      "outputs": [
        {
          "output_type": "stream",
          "name": "stdout",
          "text": [
            "Looking in indexes: https://pypi.org/simple, https://us-python.pkg.dev/colab-wheels/public/simple/\n",
            "Requirement already satisfied: sentence-transformers in /usr/local/lib/python3.9/dist-packages (2.2.2)\n",
            "Requirement already satisfied: torchvision in /usr/local/lib/python3.9/dist-packages (from sentence-transformers) (0.14.1+cu116)\n",
            "Requirement already satisfied: transformers<5.0.0,>=4.6.0 in /usr/local/lib/python3.9/dist-packages (from sentence-transformers) (4.27.1)\n",
            "Requirement already satisfied: torch>=1.6.0 in /usr/local/lib/python3.9/dist-packages (from sentence-transformers) (1.13.1+cu116)\n",
            "Requirement already satisfied: sentencepiece in /usr/local/lib/python3.9/dist-packages (from sentence-transformers) (0.1.97)\n",
            "Requirement already satisfied: numpy in /usr/local/lib/python3.9/dist-packages (from sentence-transformers) (1.22.4)\n",
            "Requirement already satisfied: huggingface-hub>=0.4.0 in /usr/local/lib/python3.9/dist-packages (from sentence-transformers) (0.13.2)\n",
            "Requirement already satisfied: scikit-learn in /usr/local/lib/python3.9/dist-packages (from sentence-transformers) (1.2.2)\n",
            "Requirement already satisfied: scipy in /usr/local/lib/python3.9/dist-packages (from sentence-transformers) (1.10.1)\n",
            "Requirement already satisfied: tqdm in /usr/local/lib/python3.9/dist-packages (from sentence-transformers) (4.65.0)\n",
            "Requirement already satisfied: nltk in /usr/local/lib/python3.9/dist-packages (from sentence-transformers) (3.7)\n",
            "Requirement already satisfied: filelock in /usr/local/lib/python3.9/dist-packages (from huggingface-hub>=0.4.0->sentence-transformers) (3.9.1)\n",
            "Requirement already satisfied: packaging>=20.9 in /usr/local/lib/python3.9/dist-packages (from huggingface-hub>=0.4.0->sentence-transformers) (23.0)\n",
            "Requirement already satisfied: requests in /usr/local/lib/python3.9/dist-packages (from huggingface-hub>=0.4.0->sentence-transformers) (2.25.1)\n",
            "Requirement already satisfied: typing-extensions>=3.7.4.3 in /usr/local/lib/python3.9/dist-packages (from huggingface-hub>=0.4.0->sentence-transformers) (4.5.0)\n",
            "Requirement already satisfied: pyyaml>=5.1 in /usr/local/lib/python3.9/dist-packages (from huggingface-hub>=0.4.0->sentence-transformers) (6.0)\n",
            "Requirement already satisfied: tokenizers!=0.11.3,<0.14,>=0.11.1 in /usr/local/lib/python3.9/dist-packages (from transformers<5.0.0,>=4.6.0->sentence-transformers) (0.13.2)\n",
            "Requirement already satisfied: regex!=2019.12.17 in /usr/local/lib/python3.9/dist-packages (from transformers<5.0.0,>=4.6.0->sentence-transformers) (2022.6.2)\n",
            "Requirement already satisfied: joblib in /usr/local/lib/python3.9/dist-packages (from nltk->sentence-transformers) (1.1.1)\n",
            "Requirement already satisfied: click in /usr/local/lib/python3.9/dist-packages (from nltk->sentence-transformers) (8.1.3)\n",
            "Requirement already satisfied: threadpoolctl>=2.0.0 in /usr/local/lib/python3.9/dist-packages (from scikit-learn->sentence-transformers) (3.1.0)\n",
            "Requirement already satisfied: pillow!=8.3.*,>=5.3.0 in /usr/local/lib/python3.9/dist-packages (from torchvision->sentence-transformers) (8.4.0)\n",
            "Requirement already satisfied: chardet<5,>=3.0.2 in /usr/local/lib/python3.9/dist-packages (from requests->huggingface-hub>=0.4.0->sentence-transformers) (4.0.0)\n",
            "Requirement already satisfied: idna<3,>=2.5 in /usr/local/lib/python3.9/dist-packages (from requests->huggingface-hub>=0.4.0->sentence-transformers) (2.10)\n",
            "Requirement already satisfied: certifi>=2017.4.17 in /usr/local/lib/python3.9/dist-packages (from requests->huggingface-hub>=0.4.0->sentence-transformers) (2022.12.7)\n",
            "Requirement already satisfied: urllib3<1.27,>=1.21.1 in /usr/local/lib/python3.9/dist-packages (from requests->huggingface-hub>=0.4.0->sentence-transformers) (1.26.15)\n"
          ]
        }
      ],
      "source": [
        "!pip install -U sentence-transformers"
      ]
    },
    {
      "cell_type": "code",
      "execution_count": null,
      "metadata": {
        "id": "PL8bNcEg7Wbf"
      },
      "outputs": [],
      "source": [
        "from sentence_transformers import SentenceTransformer\n",
        "\n",
        "model = SentenceTransformer('all-MiniLM-L6-v2')"
      ]
    },
    {
      "cell_type": "code",
      "execution_count": null,
      "metadata": {
        "id": "YgbBvA6VVfoW"
      },
      "outputs": [],
      "source": [
        "#Preprossing before sentence embedding \n",
        "def sentence_preprocess(X):\n",
        "    #Remove url\n",
        "    X_temp = [re.sub('https?:\\/\\/\\S+|www\\.(\\w+\\.)+\\S+', ' ', X[i]) for i in range(len(X))]\n",
        "    #Remove usermention\n",
        "    X_temp = [re.sub('@\\S*', ' ', X_temp[i]) for i in range(len(X_temp))]\n",
        "    #Remove hashtag\n",
        "    X_temp = [re.sub('#\\S*', ' ', X_temp[i]) for i in range(len(X_temp))]\n",
        "\n",
        "    return X_temp"
      ]
    },
    {
      "cell_type": "code",
      "execution_count": null,
      "metadata": {
        "id": "42Vt8WKW9Fw0"
      },
      "outputs": [],
      "source": [
        "#Reload un-processed train and test data\n",
        "X_train = tweets['twitter-training-data.txt']\n",
        "X_val = tweets['twitter-dev-data.txt']\n",
        "\n",
        "#Encode our labels (gts)\n",
        "Encoder = LabelEncoder()\n",
        "\n",
        "y_train = tweetgts['twitter-training-data.txt']\n",
        "y_val = tweetgts['twitter-dev-data.txt']\n",
        "\n",
        "y_train = Encoder.fit_transform(y_train)\n",
        "y_val = Encoder.fit_transform(y_val)"
      ]
    },
    {
      "cell_type": "code",
      "execution_count": null,
      "metadata": {
        "id": "kCz4FAwKWFpi"
      },
      "outputs": [],
      "source": [
        "X_train_p = sentence_preprocess(X_train)\n",
        "X_val_p = sentence_preprocess(X_val)"
      ]
    },
    {
      "cell_type": "code",
      "execution_count": null,
      "metadata": {
        "id": "4kbDr2U5XCMs"
      },
      "outputs": [],
      "source": [
        "def sentence_embed_train(X_train, X_val, y_train, y_val, model):\n",
        "\n",
        "    #Load pretrained SBERT \n",
        "    pretrained = SentenceTransformer('all-MiniLM-L6-v2')\n",
        "\n",
        "    #Encode with pre-trained models\n",
        "    X_train_embeddings = pretrained.encode(X_train)\n",
        "    X_val_embeddings = pretrained.encode(X_val)\n",
        "\n",
        "    #Fit our model\n",
        "    model.fit(X_train_embeddings, y_train)\n",
        "\n",
        "    # Make predictions on our developing data and transform it back to the original label\n",
        "    pred = model.predict(X_val_embeddings)\n",
        "    pred = Encoder.inverse_transform(pred)\n",
        "\n",
        "    # Zip the two lists of ids and our predictions into a single dictionary for evaludation\n",
        "    id_preds = {tweetids['twitter-dev-data.txt'][i]: pred[i] for i in range(len(pred))}\n",
        "\n",
        "    return id_preds"
      ]
    },
    {
      "cell_type": "code",
      "execution_count": null,
      "metadata": {
        "id": "SD_4bnghXVFg"
      },
      "outputs": [],
      "source": [
        "#Instantiate new models\n",
        "lr2 = LogisticRegression(multi_class='multinomial', max_iter=3000, random_state=42)\n",
        "knn2 = KNeighborsClassifier(n_neighbors=20)\n",
        "\n",
        "#Make predictions \n",
        "lr_preds = sentence_embed_train(X_train_p, X_val_p, y_train, y_val, lr2)\n",
        "knn_preds = sentence_embed_train(X_train_p, X_val_p, y_train, y_val, knn2)"
      ]
    },
    {
      "cell_type": "code",
      "execution_count": null,
      "metadata": {
        "colab": {
          "base_uri": "https://localhost:8080/"
        },
        "id": "_LHI33_dC-hd",
        "outputId": "05903fd3-40a6-48da-9e96-81bef8f92a62"
      },
      "outputs": [
        {
          "output_type": "stream",
          "name": "stdout",
          "text": [
            "semeval-tweets/twitter-dev-data.txt (KNN Classifier): 0.552\n"
          ]
        }
      ],
      "source": [
        "#Evaluate knn classifier \n",
        "evaluate(knn_preds, \"semeval-tweets/twitter-dev-data.txt\", \"KNN Classifier\")"
      ]
    },
    {
      "cell_type": "code",
      "execution_count": null,
      "metadata": {
        "colab": {
          "base_uri": "https://localhost:8080/"
        },
        "id": "15gSDH3zFkfL",
        "outputId": "81ffff6c-b23b-401c-a0c0-aef840acf7fe"
      },
      "outputs": [
        {
          "output_type": "stream",
          "name": "stdout",
          "text": [
            "semeval-tweets/twitter-dev-data.txt (Logistic Regression): 0.656\n"
          ]
        }
      ],
      "source": [
        "#Evaluate Logistic Regression\n",
        "evaluate(lr_preds, \"semeval-tweets/twitter-dev-data.txt\", \"Logistic Regression\")"
      ]
    },
    {
      "cell_type": "markdown",
      "metadata": {
        "id": "vt_8guN3nIrX"
      },
      "source": [
        "### Word embeddings \n",
        "\n",
        "In this section we encode our data with word embedding. We then attempt to improve our benchmarks with logistic regression and Naive Bayes Classifier. "
      ]
    },
    {
      "cell_type": "code",
      "execution_count": null,
      "metadata": {
        "id": "ADBkv0bOz-ih"
      },
      "outputs": [],
      "source": [
        "# Load training set, dev set and testing set\n",
        "data = {}\n",
        "tweetids = {}\n",
        "tweetgts = {}\n",
        "tweets = {}\n",
        "\n",
        "for dataset in ['twitter-training-data.txt', 'twitter-dev-data.txt'] + testsets:\n",
        "    dataset_path = join('semeval-tweets', dataset)\n",
        "\n",
        "    data[dataset] = []\n",
        "    tweets[dataset] = []\n",
        "    tweetids[dataset] = []\n",
        "    tweetgts[dataset] = []\n",
        "    # write code to read in the datasets here\n",
        "    \n",
        "    with open(dataset_path, 'r', encoding='utf8') as f:\n",
        "        for line in f:\n",
        "            fields = line.split('\\t')\n",
        "            tweetids[dataset].append(fields[0])\n",
        "            tweetgts[dataset].append(fields[1])\n",
        "            tweets[dataset].append(fields[2].rstrip(\"\\n\"))  #remove line breaks\n",
        "            data[dataset].append(fields)"
      ]
    },
    {
      "cell_type": "code",
      "execution_count": null,
      "metadata": {
        "id": "zJr2bmqiDLlX"
      },
      "outputs": [],
      "source": [
        "#Load GloVe 6B word-embeddings (dimension = 100)\n",
        "with open(\"./glove/glove.6B.100d.txt\",'rt') as file:\n",
        "    glove_content = file.read().strip().split('\\n')\n",
        "\n",
        "#Load the words and their corresponding embeddings into two lists\n",
        "words = [glove_content[i].split(' ')[0] for i in range(len(glove_content))]\n",
        "embeddings = [[float(val) for val in glove_content[i].split(' ')[1:]] for i in range(len(glove_content))]\n",
        "word_dict = {glove_content[i].split(' ')[0]: [float(val) for val in glove_content[i].split(' ')[1:]] for i in range(len(glove_content))}\n",
        "\n",
        "assert len(embeddings) == len(words) == 400001\n",
        "assert len(embeddings[0]) == 100"
      ]
    },
    {
      "cell_type": "code",
      "execution_count": null,
      "metadata": {
        "id": "kVqwGMiuEA2n"
      },
      "outputs": [],
      "source": [
        "#Define the numpy array versions of the words and the embeddings\n",
        "\n",
        "words_np = np.array(words)\n",
        "embeddings_np = np.array(embeddings)\n",
        "\n",
        "assert embeddings_np.shape == (400001, 100)"
      ]
    },
    {
      "cell_type": "code",
      "execution_count": null,
      "metadata": {
        "id": "yl9UW7ItxSVk"
      },
      "outputs": [],
      "source": [
        "#Define embeddings for unknown and padding tokens - zero padding and take mean for unknown tokens\n",
        "unknown_embedding = np.mean(embeddings_np,axis=0,keepdims=True) \n",
        "padding_embedding = np.zeros((1,embeddings_np.shape[1])) \n",
        "\n",
        "#Update the embeddings\n",
        "embeddings_np = np.vstack((padding_embedding, unknown_embedding, embeddings_np))\n",
        "\n",
        "word_dict[\"<PAD>\"] = list(padding_embedding)\n",
        "word_dict[\"<UNK>\"] = list(unknown_embedding)\n",
        "\n",
        "assert embeddings_np.shape == (400003, 100)"
      ]
    },
    {
      "cell_type": "code",
      "execution_count": null,
      "metadata": {
        "id": "xiJnnPV_GsrF"
      },
      "outputs": [],
      "source": [
        "#Reload un-processed train and test data\n",
        "X_train = tweets['twitter-training-data.txt']\n",
        "X_val = tweets['twitter-dev-data.txt']\n",
        "\n",
        "#Encode our labels (gts)\n",
        "Encoder = LabelEncoder()\n",
        "\n",
        "y_train = tweetgts['twitter-training-data.txt']\n",
        "y_val = tweetgts['twitter-dev-data.txt']\n",
        "\n",
        "y_train = Encoder.fit_transform(y_train)\n",
        "y_val = Encoder.fit_transform(y_val)"
      ]
    },
    {
      "cell_type": "code",
      "execution_count": null,
      "metadata": {
        "id": "qwP7BL2GHLb-"
      },
      "outputs": [],
      "source": [
        "#Preprossing before embedding \n",
        "def emb_preprocess(X):\n",
        "\n",
        "    #Instantiate tokenizer for our tweets\n",
        "    tokenizer = get_tokenizer(\"basic_english\")\n",
        "    #Remove url\n",
        "    X_temp = [re.sub('https?:\\/\\/\\S+|www\\.(\\w+\\.)+\\S+', ' ', X[i]) for i in range(len(X))]\n",
        "    #Remove usermention\n",
        "    X_temp = [re.sub('@\\S*', ' ', X_temp[i]) for i in range(len(X_temp))]\n",
        "    #Remove hashtag\n",
        "    X_temp = [re.sub('#\\S*', ' ', X_temp[i]) for i in range(len(X_temp))]\n",
        "    #Remove special characters and punctuations\n",
        "    X_temp = [re.sub('[^A-Za-z0-9 ]+', ' ', X_temp[i]) for i in range(len(X_temp))]\n",
        "    #Tokenize sentences \n",
        "    X_temp = [tokenizer(X_temp[i]) for i in range(len(X_temp))]\n",
        "    #Lowercase (as GloVe contains most words in lowercase e.g. thursday)\n",
        "    X_temp = [[word.lower() for word in X_temp[i]] for i in range(len(X_temp))]\n",
        "\n",
        "    return X_temp"
      ]
    },
    {
      "cell_type": "code",
      "execution_count": null,
      "metadata": {
        "id": "AZMLfJGGHepn"
      },
      "outputs": [],
      "source": [
        "#Preprecess the training and validation data \n",
        "\n",
        "X_train_pp = emb_preprocess(X_train)\n",
        "X_val_pp = emb_preprocess(X_val)"
      ]
    },
    {
      "cell_type": "code",
      "execution_count": null,
      "metadata": {
        "id": "nQ_Lj0mrSU09"
      },
      "outputs": [],
      "source": [
        "#Find the longest sentence to determine max lenth of each document\n",
        "def longest_sentence(X):\n",
        "    max = 0\n",
        "    for i in range(len(X)):\n",
        "        if len(X[i]) > max:\n",
        "            max = len(X[i])\n",
        "    return max"
      ]
    },
    {
      "cell_type": "code",
      "execution_count": null,
      "metadata": {
        "colab": {
          "base_uri": "https://localhost:8080/"
        },
        "id": "1TRnyevuTEf7",
        "outputId": "ed6771ad-ab58-41c8-cb04-179738be01fa"
      },
      "outputs": [
        {
          "output_type": "execute_result",
          "data": {
            "text/plain": [
              "44"
            ]
          },
          "metadata": {},
          "execution_count": 38
        }
      ],
      "source": [
        "#Longest sentence in training data = 44 - we believe that 50 should be a save choice for max doc leng\n",
        "\n",
        "longest_sentence(X_train_pp)"
      ]
    },
    {
      "cell_type": "code",
      "execution_count": null,
      "metadata": {
        "id": "AEavE_KJZeoo"
      },
      "outputs": [],
      "source": [
        "#Build a vocab object with the 5000 most frequent tokens from the training set with 2 special tokens\n",
        "vocab = build_vocab_from_iterator(X_train_pp, specials=[\"<PAD>\", \"<UNK>\"], max_tokens=5000)"
      ]
    },
    {
      "cell_type": "code",
      "execution_count": null,
      "metadata": {
        "id": "e-jT4957dj7c"
      },
      "outputs": [],
      "source": [
        "#Set default idx to 1, which is <UNK> token\n",
        "vocab.set_default_index(1)"
      ]
    },
    {
      "cell_type": "code",
      "execution_count": null,
      "metadata": {
        "id": "Qn4g-e1TdtU2"
      },
      "outputs": [],
      "source": [
        "#Initialize an embedding matrix\n",
        "\n",
        "emb_matrix = np.zeros((5000, 100))"
      ]
    },
    {
      "cell_type": "code",
      "execution_count": null,
      "metadata": {
        "id": "b1lx1-o6fph9"
      },
      "outputs": [],
      "source": [
        "#Special tokents\n",
        "emb_matrix[0] = padding_embedding\n",
        "emb_matrix[1] = unknown_embedding\n",
        "count = 0\n",
        "#Build the embedding matrix for these 5000 tokens\n",
        "for i in range(2, 5000):\n",
        "    if vocab.lookup_token(i) in words:\n",
        "        emb_matrix[i] = np.array(word_dict[vocab.lookup_token(i)])\n",
        "    else:\n",
        "        count += 1\n",
        "        emb_matrix[i] = unknown_embedding\n",
        "assert emb_matrix.shape == (5000, 100)"
      ]
    },
    {
      "cell_type": "code",
      "execution_count": null,
      "metadata": {
        "id": "dPUiJ-5R4Ip4"
      },
      "outputs": [],
      "source": [
        "#Convert embedding matrix into torch tensor\n",
        "\n",
        "emb_matrix = torch.from_numpy(emb_matrix)"
      ]
    },
    {
      "cell_type": "code",
      "execution_count": null,
      "metadata": {
        "id": "CzSroqRIk3q8"
      },
      "outputs": [],
      "source": [
        "#A class of Neural Network consisting of one LSTM layer and one linear layer as required\n",
        "\n",
        "class LSTM(nn.Module):\n",
        "    \n",
        "    def __init__(self, hidden_dim=128, num_layers=1, dropout=0, bidirectional=False):    \n",
        "        \n",
        "        super().__init__()\n",
        "        \n",
        "        self.embedding = nn.Embedding.from_pretrained(emb_matrix, freeze=True)\n",
        "        self.lstm = nn.LSTM(100, hidden_dim, num_layers=num_layers, batch_first=True, dropout=dropout, bidirectional=bidirectional)\n",
        "        self.fc = nn.Linear(hidden_dim, 3)\n",
        "\n",
        "        \n",
        "    def forward(self, text):\n",
        "        \n",
        "        embedded = self.embedding(text).float()     #[batch_size x seq_len x emb_dim]\n",
        "        lstm_output, _ = self.lstm(embedded)        #[batch_size x seq_len x hidden_dim]\n",
        "        output = self.fc(torch.mean(lstm_output, dim=1))       #[batch_size x seq_len x 3]       #Last layer output of dimension [batch_size x 3]\n",
        "                           \n",
        "        return output"
      ]
    },
    {
      "cell_type": "code",
      "execution_count": null,
      "metadata": {
        "id": "W_t7f-acmI9r"
      },
      "outputs": [],
      "source": [
        "#Now we define our own class of Dataset for our text data\n",
        "\n",
        "#Train on GPU if available\n",
        "device = torch.device(\"cuda:0\" if torch.cuda.is_available() else \"cpu\")\n",
        "\n",
        "class TextDataset(Dataset):\n",
        "    def __init__(self, data, target):\n",
        "        self.data = data\n",
        "        self.target = target\n",
        "\n",
        "    def __getitem__(self, idx):\n",
        "        sentence = self.data[idx]\n",
        "        encode = [vocab[word] for word in sentence]\n",
        "        \n",
        "        #Ensure the sentence size = 20\n",
        "        #Pad the sentence if len < 20\n",
        "        while len(encode) < 20:\n",
        "            encode.append(0)\n",
        "        #Truncate the sentence if len > 20\n",
        "        if len(encode) > 20:\n",
        "            encode = encode[:20]\n",
        "        \n",
        "        label = self.target[idx]\n",
        "\n",
        "        #Convert text and label into tensors\n",
        "        text = torch.tensor(encode)\n",
        "        label = torch.tensor(label)\n",
        "\n",
        "        return text, label\n",
        "\n",
        "    def __len__(self):\n",
        "        return len(self.data)"
      ]
    },
    {
      "cell_type": "code",
      "execution_count": null,
      "metadata": {
        "id": "F9JrKiAcm3Ps"
      },
      "outputs": [],
      "source": [
        "#Create datasets for training\n",
        "\n",
        "train_data = TextDataset(X_train_pp, y_train)\n",
        "val_data = TextDataset(X_val_pp, y_val)"
      ]
    },
    {
      "cell_type": "code",
      "execution_count": null,
      "metadata": {
        "id": "bVJcbROmc3F-"
      },
      "outputs": [],
      "source": [
        "#Create Dataloaders \n",
        "#Note that our dataloader iteration has first dimension = batch size\n",
        "#So for the LSTM we have to set batch_first = True\n",
        "\n",
        "train_dataloader = DataLoader(train_data, batch_size=128, shuffle=True)\n",
        "val_dataloader = DataLoader(val_data, batch_size=2000)"
      ]
    },
    {
      "cell_type": "code",
      "execution_count": null,
      "metadata": {
        "id": "Jm792QaroC_k"
      },
      "outputs": [],
      "source": [
        "#Train on GPU if available\n",
        "device = torch.device(\"cuda:0\" if torch.cuda.is_available() else \"cpu\")\n",
        "\n",
        "#CE Loss for multi-class classification\n",
        "criterion_lstm = nn.CrossEntropyLoss()\n",
        "\n",
        "#Instantiate our first model\n",
        "model_lstm = LSTM()\n",
        "model_lstm = model_lstm.to(device)\n",
        "\n",
        "#Adam optimizer with a standardize lr of 0.003\n",
        "optimizer_lstm = torch.optim.Adam(model_lstm.parameters(), lr=0.003)"
      ]
    },
    {
      "cell_type": "code",
      "execution_count": null,
      "metadata": {
        "id": "QwdngwmnXKg9"
      },
      "outputs": [],
      "source": [
        "#Define dictionaries to ease access of dataloaders and dataset sizes\n",
        "\n",
        "dataloaders = {\"train\": train_dataloader,\n",
        "               \"val\": val_dataloader}\n",
        "\n",
        "dataset_sizes = {\"train\": len(X_train_pp),\n",
        "                 \"val\": len(X_val_pp)}"
      ]
    },
    {
      "cell_type": "code",
      "execution_count": null,
      "metadata": {
        "id": "ba5hp9Px45W4"
      },
      "outputs": [],
      "source": [
        "#Train the model \n",
        "#Source: https://pytorch.org/tutorials/beginner/transfer_learning_tutorial.html\n",
        "\n",
        "def train_model(model, criterion, optimizer, num_epochs=10):\n",
        "\n",
        "    #Track best accuracy\n",
        "    best_model_wts = copy.deepcopy(model.state_dict())\n",
        "    best_acc = 0.0\n",
        "\n",
        "    #Track the losses for convergence plots\n",
        "    train_loss = []\n",
        "    val_loss = []\n",
        "\n",
        "    for epoch in range(num_epochs):\n",
        "        print(f'Epoch {epoch + 1}/{num_epochs}')\n",
        "        print('-' * 10)\n",
        "\n",
        "        #Train and validation phase for each epoch\n",
        "        for phase in ['train', 'val']:\n",
        "            if phase == 'train':\n",
        "                model.train()  #Training mode\n",
        "            else:\n",
        "                model.eval()   #Evaluate mode\n",
        "\n",
        "            running_loss = 0.0\n",
        "            running_corrects = 0\n",
        "\n",
        "            #Iterate over data\n",
        "            for inputs, labels in dataloaders[phase]:\n",
        "                inputs = inputs.to(device)\n",
        "                labels = labels.to(device)\n",
        "\n",
        "                #Zero out the gradients before the forward pass\n",
        "                optimizer.zero_grad()\n",
        "\n",
        "\n",
        "                #Forward pass only gradient enabled only when training\n",
        "                with torch.set_grad_enabled(phase == 'train'):\n",
        "                    outputs = model(inputs)\n",
        "                    _, preds = torch.max(outputs, 1)\n",
        "                    loss = criterion(outputs, labels)\n",
        "\n",
        "                    #Backprop and optimizing step\n",
        "                    if phase == 'train':\n",
        "                        loss.backward()\n",
        "                        optimizer.step()\n",
        "\n",
        "                #Track loss\n",
        "                running_loss += loss.item() * inputs.size(0)\n",
        "                running_corrects += torch.sum(preds == labels.data)\n",
        "\n",
        "            epoch_loss = running_loss / dataset_sizes[phase]\n",
        "            epoch_acc = running_corrects.double() / dataset_sizes[phase]\n",
        "\n",
        "            if phase == 'train':\n",
        "                train_loss.append(epoch_loss)\n",
        "            elif phase == 'val':\n",
        "                val_loss.append(epoch_loss)\n",
        "            \n",
        "            print(f'{phase} Loss: {epoch_loss:.4f} Acc: {epoch_acc:.4f}')\n",
        "            \n",
        "            # Copy the best model \n",
        "            if phase == 'val' and epoch_acc > best_acc:\n",
        "                best_acc = epoch_acc\n",
        "                best_model_wts = copy.deepcopy(model.state_dict())\n",
        "\n",
        "    print(f'Best val Acc: {best_acc:4f}')\n",
        "\n",
        "    #Plot the convergence plots of the losses\n",
        "    plt.plot(np.array(train_loss), color='green', label='Training Loss')\n",
        "    plt.plot(np.array(val_loss), color='blue', label='Validation Loss')\n",
        "    plt.legend(loc='best')\n",
        "    plt.title(\"Convergence Plots of Training and Validation Losses\")\n",
        "    plt.xlabel(\"Number of Epochs\")\n",
        "    plt.ylabel(\"Cross Entropy Loss\")\n",
        "    plt.show()\n",
        "\n",
        "    #Save the best model weights\n",
        "    model.load_state_dict(best_model_wts)\n",
        "    torch.save(model, \"LSTM\")\n",
        "    \n",
        "    #Evaluate on validation set\n",
        "    model.eval() \n",
        "    for inputs, labels in dataloaders['val']:\n",
        "        inputs = inputs.to(device)\n",
        "        labels = labels.to(device)\n",
        "\n",
        "        #Zero out the gradients before the forward pass\n",
        "        optimizer.zero_grad()\n",
        "        outputs = model(inputs)\n",
        "        _, preds = torch.max(outputs, 1)\n",
        "        preds = Encoder.inverse_transform(preds.cpu().numpy())\n",
        "\n",
        "        #Zip the two lists of ids and our predictions into a single dictionary for evaludation\n",
        "        id_preds = {tweetids['twitter-dev-data.txt'][i]: preds[i] for i in range(len(preds))}\n",
        "    \n",
        "         # #Evaluate on the macro-F1\n",
        "        evaluate(id_preds, \"semeval-tweets/twitter-dev-data.txt\", \"LSTM\")"
      ]
    },
    {
      "cell_type": "code",
      "execution_count": null,
      "metadata": {
        "colab": {
          "base_uri": "https://localhost:8080/",
          "height": 1000
        },
        "id": "lS6N-GprqMAL",
        "outputId": "8c7c3e85-9153-455d-92ee-79149067a242"
      },
      "outputs": [
        {
          "output_type": "stream",
          "name": "stdout",
          "text": [
            "Epoch 1/10\n",
            "----------\n",
            "train Loss: 0.8676 Acc: 0.5817\n",
            "val Loss: 0.7915 Acc: 0.6305\n",
            "Epoch 2/10\n",
            "----------\n",
            "train Loss: 0.7986 Acc: 0.6253\n",
            "val Loss: 0.7810 Acc: 0.6350\n",
            "Epoch 3/10\n",
            "----------\n",
            "train Loss: 0.7646 Acc: 0.6468\n",
            "val Loss: 0.7639 Acc: 0.6385\n",
            "Epoch 4/10\n",
            "----------\n",
            "train Loss: 0.7375 Acc: 0.6624\n",
            "val Loss: 0.7496 Acc: 0.6575\n",
            "Epoch 5/10\n",
            "----------\n",
            "train Loss: 0.7077 Acc: 0.6792\n",
            "val Loss: 0.7571 Acc: 0.6470\n",
            "Epoch 6/10\n",
            "----------\n",
            "train Loss: 0.6719 Acc: 0.7002\n",
            "val Loss: 0.7675 Acc: 0.6450\n",
            "Epoch 7/10\n",
            "----------\n",
            "train Loss: 0.6341 Acc: 0.7194\n",
            "val Loss: 0.7872 Acc: 0.6360\n",
            "Epoch 8/10\n",
            "----------\n",
            "train Loss: 0.5869 Acc: 0.7445\n",
            "val Loss: 0.8039 Acc: 0.6350\n",
            "Epoch 9/10\n",
            "----------\n",
            "train Loss: 0.5407 Acc: 0.7681\n",
            "val Loss: 0.8694 Acc: 0.6305\n",
            "Epoch 10/10\n",
            "----------\n",
            "train Loss: 0.4885 Acc: 0.7925\n",
            "val Loss: 0.9277 Acc: 0.6265\n",
            "Best val Acc: 0.657500\n"
          ]
        },
        {
          "output_type": "display_data",
          "data": {
            "text/plain": [
              "<Figure size 432x288 with 1 Axes>"
            ],
            "image/png": "[encoded data removed]"
          },
          "metadata": {
            "needs_background": "light"
          }
        },
        {
          "output_type": "stream",
          "name": "stdout",
          "text": [
            "semeval-tweets/twitter-dev-data.txt (LSTM): 0.627\n"
          ]
        }
      ],
      "source": [
        "train_model(model_lstm, criterion_lstm, optimizer_lstm, num_epochs=10)"
      ]
    },
    {
      "cell_type": "markdown",
      "metadata": {
        "id": "tyJFTI1c9_fZ"
      },
      "source": [
        "## BERT finetuning\n",
        "\n",
        "Finally we finetune a pre-trained BERT and perform fintuning on our downstream."
      ]
    },
    {
      "cell_type": "code",
      "execution_count": null,
      "metadata": {
        "id": "t1v0hbX0-L5v"
      },
      "outputs": [],
      "source": [
        "#Preprocessing for Distil-BERT\n",
        "def bert_preprocess(X):\n",
        "\n",
        "    #Remove url\n",
        "    X_temp = [re.sub('https?:\\/\\/\\S+|www\\.(\\w+\\.)+\\S+', '', X[i]) for i in range(len(X))]\n",
        "    #Remove usermention\n",
        "    X_temp = [re.sub('@\\S*', '', X_temp[i]) for i in range(len(X_temp))]\n",
        "    #Remove hashtag\n",
        "    X_temp = [re.sub('#\\S*', '', X_temp[i]) for i in range(len(X_temp))]\n",
        "\n",
        "    return X_temp"
      ]
    },
    {
      "cell_type": "code",
      "execution_count": null,
      "metadata": {
        "id": "IpA-FnKacALA"
      },
      "outputs": [],
      "source": [
        "#Just do the simplest preprecessing \n",
        "X_train_bert = bert_preprocess(X_train)\n",
        "X_val_bert = bert_preprocess(X_val)"
      ]
    },
    {
      "cell_type": "code",
      "execution_count": null,
      "metadata": {
        "id": "sEhSSVR49LK_"
      },
      "outputs": [],
      "source": [
        "#BERT Tokenizer\n",
        "bert_tokenizer = transformers.BertTokenizer.from_pretrained(\"bert-base-uncased\")"
      ]
    },
    {
      "cell_type": "code",
      "execution_count": null,
      "metadata": {
        "id": "P3X_DfD09SyF"
      },
      "outputs": [],
      "source": [
        "#BERT dataset\n",
        "\n",
        "class BERTDataset(Dataset):\n",
        "    def __init__(self, data, target, tokenizer, max_length=100):\n",
        "        self.data = data\n",
        "        self.target = target\n",
        "        self.max_length = max_length\n",
        "        self.tokenizer = tokenizer\n",
        "\n",
        "    def __getitem__(self, idx):\n",
        "        \n",
        "        text = self.data[idx]\n",
        "        \n",
        "        inputs = self.tokenizer.encode_plus(\n",
        "            text,\n",
        "            None,\n",
        "            padding='max_length',\n",
        "            add_special_tokens=True,\n",
        "            return_attention_mask=True,\n",
        "            max_length=self.max_length,\n",
        "            return_token_type_ids=True,\n",
        "            truncation=True\n",
        "        )\n",
        "\n",
        "        ids = inputs[\"input_ids\"]\n",
        "        token_type_ids = inputs[\"token_type_ids\"]\n",
        "        mask = inputs[\"attention_mask\"]\n",
        "\n",
        "        return {\n",
        "            'ids': torch.tensor(ids, dtype=torch.long),\n",
        "            'mask': torch.tensor(mask, dtype=torch.long),\n",
        "            'token_type_ids': torch.tensor(token_type_ids, dtype=torch.long),\n",
        "            'target': torch.tensor(self.target[idx], dtype=torch.long)\n",
        "            }\n",
        "\n",
        "    def __len__(self):\n",
        "        return len(self.data)"
      ]
    },
    {
      "cell_type": "code",
      "execution_count": null,
      "metadata": {
        "id": "V9NbApRen37z"
      },
      "outputs": [],
      "source": [
        "#Create BERT datasets \n",
        "train_dataset_bert = BERTDataset(X_train_bert, y_train, bert_tokenizer, max_length=100)\n",
        "val_dataset_bert = BERTDataset(X_val_bert, y_val, bert_tokenizer, max_length=100)\n",
        "\n",
        "#Create Dataloaders \n",
        "train_dataloader_bert = DataLoader(train_dataset_bert, batch_size=32, shuffle=True)\n",
        "val_dataloader_bert = DataLoader(val_dataset_bert, batch_size=2000)"
      ]
    },
    {
      "cell_type": "code",
      "execution_count": null,
      "metadata": {
        "id": "nImh6NGUz2Vp"
      },
      "outputs": [],
      "source": [
        "#Define the model class for BERT\n",
        "\n",
        "class BERT(nn.Module):\n",
        "    def __init__(self):\n",
        "        super(BERT, self).__init__()\n",
        "        self.bert_model = transformers.BertModel.from_pretrained(\"bert-base-uncased\")\n",
        "        self.fc = nn.Linear(768, 3)\n",
        "        \n",
        "    def forward(self,ids,mask,token_type_ids):\n",
        "        _, bert_output= self.bert_model(ids,attention_mask=mask,token_type_ids=token_type_ids, return_dict=False)\n",
        "        output = self.fc(bert_output)\n",
        "\n",
        "        return output"
      ]
    },
    {
      "cell_type": "code",
      "execution_count": null,
      "metadata": {
        "colab": {
          "base_uri": "https://localhost:8080/"
        },
        "id": "GAaPbWDI7MfA",
        "outputId": "3313b0f4-13c9-470d-bff7-9a72207431b6"
      },
      "outputs": [
        {
          "output_type": "stream",
          "name": "stderr",
          "text": [
            "Some weights of the model checkpoint at bert-base-uncased were not used when initializing BertModel: ['cls.predictions.decoder.weight', 'cls.predictions.bias', 'cls.predictions.transform.dense.bias', 'cls.predictions.transform.dense.weight', 'cls.seq_relationship.bias', 'cls.predictions.transform.LayerNorm.weight', 'cls.predictions.transform.LayerNorm.bias', 'cls.seq_relationship.weight']\n",
            "- This IS expected if you are initializing BertModel from the checkpoint of a model trained on another task or with another architecture (e.g. initializing a BertForSequenceClassification model from a BertForPreTraining model).\n",
            "- This IS NOT expected if you are initializing BertModel from the checkpoint of a model that you expect to be exactly identical (initializing a BertForSequenceClassification model from a BertForSequenceClassification model).\n"
          ]
        }
      ],
      "source": [
        "#Train on GPU if available\n",
        "device = torch.device(\"cuda:0\" if torch.cuda.is_available() else \"cpu\")\n",
        "\n",
        "#Instantiate model\n",
        "model_bert = BERT().to(device)\n",
        "\n",
        "#Cross Entropy Loss\n",
        "criterion_bert = nn.CrossEntropyLoss()\n",
        "\n",
        "#Initialize Optimizer\n",
        "optimizer_bert = torch.optim.Adam(model_bert.parameters(), lr=0.0002)\n",
        "\n",
        "#Freeze half of the BERT layers\n",
        "ct = 0\n",
        "for child in model_bert.bert_model.children():\n",
        "    ct += 1\n",
        "    if ct < 8:\n",
        "        for param in child.parameters():\n",
        "            param.requires_grad = False\n"
      ]
    },
    {
      "cell_type": "code",
      "execution_count": null,
      "metadata": {
        "id": "YqtJV_Vdt1Es"
      },
      "outputs": [],
      "source": [
        "#Define dictionaries to ease access of dataloaders and dataset sizes\n",
        "\n",
        "dataloaders = {\"train\": train_dataloader_bert,\n",
        "               \"val\": val_dataloader_bert}\n",
        "\n",
        "dataset_sizes = {\"train\": len(X_train_bert),\n",
        "                 \"val\": len(X_val_bert)}"
      ]
    },
    {
      "cell_type": "code",
      "execution_count": null,
      "metadata": {
        "id": "ePDGHNQB7WdX"
      },
      "outputs": [],
      "source": [
        "#Finetune the DistilBERT model \n",
        "\n",
        "def finetune_bert(model, criterion, optimizer, num_epochs=10):\n",
        "\n",
        "    #Track best accuracy\n",
        "    best_model_wts = copy.deepcopy(model.state_dict())\n",
        "    best_acc = 0.0\n",
        "\n",
        "    #Track the losses for convergence plots\n",
        "    train_loss = []\n",
        "    val_loss = []\n",
        "\n",
        "    for epoch in range(num_epochs):\n",
        "        print(f'Epoch {epoch + 1}/{num_epochs}')\n",
        "        print('-' * 10)\n",
        "\n",
        "        #Train and validation phase for each epoch\n",
        "        for phase in ['train', 'val']:\n",
        "            if phase == 'train':\n",
        "                model.train()  #Training mode\n",
        "            else:\n",
        "                model.eval()   #Evaluate mode\n",
        "\n",
        "            running_loss = 0.0\n",
        "            running_corrects = 0\n",
        "\n",
        "            #Iterate over data\n",
        "            for dl in dataloaders[phase]:\n",
        "\n",
        "                #Retrieve data information from batch\n",
        "                ids=dl['ids'].to(device)\n",
        "                token_type_ids=dl['token_type_ids'].to(device)\n",
        "                mask= dl['mask'].to(device)\n",
        "                label=dl['target'].to(device)\n",
        "\n",
        "                #Zero out the gradients before the forward pass\n",
        "                optimizer.zero_grad()\n",
        "\n",
        "\n",
        "                #Forward pass only gradient enabled only when training\n",
        "                with torch.set_grad_enabled(phase == 'train'):\n",
        "                    outputs = model(ids=ids, mask=mask, token_type_ids=token_type_ids)\n",
        "                    _, preds = torch.max(outputs, 1)\n",
        "                    loss = criterion(outputs, label)\n",
        "\n",
        "                    #Backprop and optimizing step\n",
        "                    if phase == 'train':\n",
        "                        loss.backward()\n",
        "                        optimizer.step()\n",
        "\n",
        "                #Track loss\n",
        "                running_loss += loss.item() * ids.size(0)\n",
        "                running_corrects += torch.sum(preds == label.data)\n",
        "\n",
        "            epoch_loss = running_loss / dataset_sizes[phase]\n",
        "            epoch_acc = running_corrects.double() / dataset_sizes[phase]\n",
        "\n",
        "            if phase == 'train':\n",
        "                train_loss.append(epoch_loss)\n",
        "            elif phase == 'val':\n",
        "                val_loss.append(epoch_loss)\n",
        "            \n",
        "            print(f'{phase} Loss: {epoch_loss:.4f} Acc: {epoch_acc:.4f}')\n",
        "            \n",
        "            # Copy the best model \n",
        "            if phase == 'val' and epoch_acc > best_acc:\n",
        "                best_acc = epoch_acc\n",
        "                best_model_wts = copy.deepcopy(model.state_dict())\n",
        "\n",
        "    print(f'Best val Acc: {best_acc:4f}')\n",
        "\n",
        "    #Plot the convergence plots of the losses\n",
        "    plt.plot(np.array(train_loss), color='green', label='Training Loss')\n",
        "    plt.plot(np.array(val_loss), color='blue', label='Validation Loss')\n",
        "    plt.legend(loc='best')\n",
        "    plt.title(\"Convergence Plots of Training and Validation Losses\")\n",
        "    plt.xlabel(\"Number of Epochs\")\n",
        "    plt.ylabel(\"Cross Entropy Loss\")\n",
        "    plt.show()\n",
        "\n",
        "    #Save the best model weights\n",
        "    model.load_state_dict(best_model_wts)\n",
        "    torch.save(model, \"BERT\")\n",
        "    \n",
        "    #Evaluate on validation set\n",
        "    model.eval() \n",
        "    for dl in dataloaders['val']:\n",
        "\n",
        "        #Retrieve data information from batch\n",
        "        ids=dl['ids'].to(device)\n",
        "        token_type_ids=dl['token_type_ids'].to(device)\n",
        "        mask= dl['mask'].to(device)\n",
        "        label=dl['target'].to(device)\n",
        "\n",
        "        #Zero out the gradients before the forward pass\n",
        "        optimizer.zero_grad()\n",
        "        outputs = model(ids=ids, mask=mask, token_type_ids=token_type_ids)\n",
        "        _, preds = torch.max(outputs, 1)\n",
        "        preds = Encoder.inverse_transform(preds.cpu().numpy())\n",
        "\n",
        "        #Zip the two lists of ids and our predictions into a single dictionary for evaludation\n",
        "        id_preds = {tweetids['twitter-dev-data.txt'][i]: preds[i] for i in range(len(preds))}\n",
        "    \n",
        "        #Evaluate on the macro-F1\n",
        "        evaluate(id_preds, \"semeval-tweets/twitter-dev-data.txt\", \"BERT\")"
      ]
    },
    {
      "cell_type": "code",
      "execution_count": null,
      "metadata": {
        "colab": {
          "base_uri": "https://localhost:8080/",
          "height": 1000
        },
        "id": "czyPEKqXwM9M",
        "outputId": "9f427457-e560-4309-acd5-4bae06eb77b9"
      },
      "outputs": [
        {
          "output_type": "stream",
          "name": "stdout",
          "text": [
            "Epoch 1/25\n",
            "----------\n",
            "train Loss: 0.9729 Acc: 0.5198\n",
            "val Loss: 0.9246 Acc: 0.5545\n",
            "Epoch 2/25\n",
            "----------\n",
            "train Loss: 0.9124 Acc: 0.5610\n",
            "val Loss: 0.8893 Acc: 0.5675\n",
            "Epoch 3/25\n",
            "----------\n",
            "train Loss: 0.8905 Acc: 0.5722\n",
            "val Loss: 0.8756 Acc: 0.5665\n",
            "Epoch 4/25\n",
            "----------\n",
            "train Loss: 0.8753 Acc: 0.5798\n",
            "val Loss: 0.8542 Acc: 0.5935\n",
            "Epoch 5/25\n",
            "----------\n",
            "train Loss: 0.8656 Acc: 0.5866\n",
            "val Loss: 0.8525 Acc: 0.5855\n",
            "Epoch 6/25\n",
            "----------\n",
            "train Loss: 0.8559 Acc: 0.5928\n",
            "val Loss: 0.8389 Acc: 0.5955\n",
            "Epoch 7/25\n",
            "----------\n",
            "train Loss: 0.8504 Acc: 0.5946\n",
            "val Loss: 0.8287 Acc: 0.6035\n",
            "Epoch 8/25\n",
            "----------\n",
            "train Loss: 0.8440 Acc: 0.6004\n",
            "val Loss: 0.8274 Acc: 0.6015\n",
            "Epoch 9/25\n",
            "----------\n",
            "train Loss: 0.8426 Acc: 0.6003\n",
            "val Loss: 0.8243 Acc: 0.6015\n",
            "Epoch 10/25\n",
            "----------\n",
            "train Loss: 0.8382 Acc: 0.6036\n",
            "val Loss: 0.8210 Acc: 0.6045\n",
            "Epoch 11/25\n",
            "----------\n",
            "train Loss: 0.8352 Acc: 0.6020\n",
            "val Loss: 0.8140 Acc: 0.6110\n",
            "Epoch 12/25\n",
            "----------\n",
            "train Loss: 0.8328 Acc: 0.6056\n",
            "val Loss: 0.8132 Acc: 0.6095\n",
            "Epoch 13/25\n",
            "----------\n",
            "train Loss: 0.8300 Acc: 0.6074\n",
            "val Loss: 0.8077 Acc: 0.6175\n",
            "Epoch 14/25\n",
            "----------\n",
            "train Loss: 0.8294 Acc: 0.6066\n",
            "val Loss: 0.8059 Acc: 0.6115\n",
            "Epoch 15/25\n",
            "----------\n",
            "train Loss: 0.8278 Acc: 0.6081\n",
            "val Loss: 0.8015 Acc: 0.6190\n",
            "Epoch 16/25\n",
            "----------\n",
            "train Loss: 0.8243 Acc: 0.6068\n",
            "val Loss: 0.7996 Acc: 0.6220\n",
            "Epoch 17/25\n",
            "----------\n",
            "train Loss: 0.8216 Acc: 0.6099\n",
            "val Loss: 0.8020 Acc: 0.6195\n",
            "Epoch 18/25\n",
            "----------\n",
            "train Loss: 0.8200 Acc: 0.6118\n",
            "val Loss: 0.7998 Acc: 0.6235\n",
            "Epoch 19/25\n",
            "----------\n",
            "train Loss: 0.8185 Acc: 0.6145\n",
            "val Loss: 0.7950 Acc: 0.6320\n",
            "Epoch 20/25\n",
            "----------\n",
            "train Loss: 0.8167 Acc: 0.6120\n",
            "val Loss: 0.7919 Acc: 0.6265\n",
            "Epoch 21/25\n",
            "----------\n",
            "train Loss: 0.8172 Acc: 0.6140\n",
            "val Loss: 0.8020 Acc: 0.6175\n",
            "Epoch 22/25\n",
            "----------\n",
            "train Loss: 0.8164 Acc: 0.6142\n",
            "val Loss: 0.7917 Acc: 0.6265\n",
            "Epoch 23/25\n",
            "----------\n",
            "train Loss: 0.8138 Acc: 0.6137\n",
            "val Loss: 0.7963 Acc: 0.6260\n",
            "Epoch 24/25\n",
            "----------\n",
            "train Loss: 0.8156 Acc: 0.6108\n",
            "val Loss: 0.7875 Acc: 0.6270\n",
            "Epoch 25/25\n",
            "----------\n",
            "train Loss: 0.8150 Acc: 0.6151\n",
            "val Loss: 0.7927 Acc: 0.6195\n",
            "Best val Acc: 0.632000\n"
          ]
        },
        {
          "output_type": "display_data",
          "data": {
            "text/plain": [
              "<Figure size 432x288 with 1 Axes>"
            ],
            "image/png": "[encoded data removed]"
          },
          "metadata": {
            "needs_background": "light"
          }
        },
        {
          "output_type": "stream",
          "name": "stdout",
          "text": [
            "semeval-tweets/twitter-dev-data.txt (BERT): 0.605\n"
          ]
        }
      ],
      "source": [
        "finetune_bert(model_bert, criterion_bert, optimizer_bert, num_epochs=25)"
      ]
    },
    {
      "cell_type": "markdown",
      "metadata": {
        "id": "uUL7o1nOgLt6"
      },
      "source": [
        "#### Build sentiment classifiers\n",
        "You need to create your own classifiers (at least 3 classifiers). For each classifier, you can choose between the bag-of-word features and the word-embedding-based features. Each classifier has to be evaluated over 3 test sets. Make sure your classifier produce consistent performance across the test sets. Marking will be based on the performance over all 5 test sets (2 of them are not provided to you)."
      ]
    },
    {
      "cell_type": "code",
      "execution_count": null,
      "metadata": {
        "colab": {
          "base_uri": "https://localhost:8080/"
        },
        "id": "zB8OsQR3gLt7",
        "outputId": "7ff1828d-e9b2-4b0c-c0f4-cb81f85420c1"
      },
      "outputs": [
        {
          "output_type": "stream",
          "name": "stdout",
          "text": [
            "Training Logistic Regression\n",
            "semeval-tweets/twitter-test1.txt (BoW-Logistic Regression): 0.467\n",
            "semeval-tweets/twitter-test2.txt (BoW-Logistic Regression): 0.446\n",
            "semeval-tweets/twitter-test3.txt (BoW-Logistic Regression): 0.464\n",
            "Training Logistic Regression\n",
            "semeval-tweets/twitter-test1.txt (Sentence Embedding-Logistic Regression): 0.569\n",
            "semeval-tweets/twitter-test2.txt (Sentence Embedding-Logistic Regression): 0.594\n",
            "semeval-tweets/twitter-test3.txt (Sentence Embedding-Logistic Regression): 0.565\n",
            "Training Naive Bayes Classifier\n",
            "semeval-tweets/twitter-test1.txt (BoW-Naive Bayes Classifier): 0.413\n",
            "semeval-tweets/twitter-test2.txt (BoW-Naive Bayes Classifier): 0.421\n",
            "semeval-tweets/twitter-test3.txt (BoW-Naive Bayes Classifier): 0.444\n",
            "Training KNN Classifier\n",
            "semeval-tweets/twitter-test1.txt (BoW-KNN Classifier): 0.237\n",
            "semeval-tweets/twitter-test2.txt (BoW-KNN Classifier): 0.268\n",
            "semeval-tweets/twitter-test3.txt (BoW-KNN Classifier): 0.238\n",
            "Training KNN Classifier\n",
            "semeval-tweets/twitter-test1.txt (Sentence Embedding-KNN Classifier): 0.428\n",
            "semeval-tweets/twitter-test2.txt (Sentence Embedding-KNN Classifier): 0.454\n",
            "semeval-tweets/twitter-test3.txt (Sentence Embedding-KNN Classifier): 0.416\n",
            "Training LSTM\n",
            "semeval-tweets/twitter-test1.txt (GloVe-LSTM): 0.589\n",
            "semeval-tweets/twitter-test2.txt (GloVe-LSTM): 0.588\n",
            "semeval-tweets/twitter-test3.txt (GloVe-LSTM): 0.556\n",
            "Training BERT\n",
            "semeval-tweets/twitter-test1.txt (BERT-BERT): 0.518\n",
            "semeval-tweets/twitter-test2.txt (BERT-BERT): 0.573\n",
            "semeval-tweets/twitter-test3.txt (BERT-BERT): 0.530\n"
          ]
        }
      ],
      "source": [
        "#Evaluate our models on test datasets\n",
        "\n",
        "for classifier in ['Logistic Regression', 'Naive Bayes Classifier', 'KNN Classifier', 'LSTM', 'BERT']:\n",
        "    for features in ['BoW', 'Sentence Embedding', \"GloVe\", 'BERT']:\n",
        "        \n",
        "        if classifier == 'Logistic Regression':\n",
        "            if features == \"BoW\":\n",
        "                model = LogisticRegression(multi_class='multinomial', max_iter=3000, random_state=42)\n",
        "                tfidf_vector = TfidfVectorizer()\n",
        "                X_train_tf = tfidf_vector.fit_transform(X_train_bow)\n",
        "                model.fit(X_train_tf, y_train)\n",
        "\n",
        "                print('Training ' + classifier)\n",
        "                \n",
        "            elif features == \"Sentence Embedding\":\n",
        "                model = LogisticRegression(multi_class='multinomial', max_iter=3000, random_state=42)\n",
        "                pretrained = SentenceTransformer('all-MiniLM-L6-v2')\n",
        "                X_train_embeddings = pretrained.encode(X_train_p)\n",
        "                model.fit(X_train_embeddings, y_train)\n",
        "\n",
        "                print('Training ' + classifier)\n",
        "            else:\n",
        "                continue\n",
        "        \n",
        "        elif classifier == 'Naive Bayes Classifier':\n",
        "            if features == \"BoW\":\n",
        "                model = MultinomialNB(fit_prior=False)\n",
        "                tfidf_vector = TfidfVectorizer()\n",
        "                X_train_tf = tfidf_vector.fit_transform(X_train_bow)\n",
        "                model.fit(X_train_tf, y_train)\n",
        "                print('Training ' + classifier)\n",
        "            else:\n",
        "                continue\n",
        "        \n",
        "            \n",
        "        elif classifier == 'KNN Classifier':\n",
        "            if features == \"BoW\":\n",
        "                model = KNeighborsClassifier(n_neighbors=20)\n",
        "                tfidf_vector = TfidfVectorizer()\n",
        "                X_train_tf = tfidf_vector.fit_transform(X_train_bow)\n",
        "                model.fit(X_train_tf, y_train)\n",
        "                print('Training ' + classifier)\n",
        "\n",
        "            elif features == \"Sentence Embedding\":\n",
        "                model = KNeighborsClassifier(n_neighbors=20)\n",
        "                pretrained = SentenceTransformer('all-MiniLM-L6-v2')\n",
        "                X_train_embeddings = pretrained.encode(X_train_p)\n",
        "                model.fit(X_train_embeddings, y_train)\n",
        "                print('Training ' + classifier)\n",
        "            else:\n",
        "                continue\n",
        "        \n",
        "        elif classifier == 'LSTM':\n",
        "            if features == 'GloVe':\n",
        "                #Run this line of code if model is not downloaded\n",
        "                # train_model(model_lstm, criterion_lstm, optimizer_lstm, num_epochs=10)\n",
        "                model = torch.load(\"LSTM\")\n",
        "                print('Training ' + classifier)\n",
        "            else:\n",
        "                continue\n",
        "        \n",
        "        elif classifier == 'BERT':\n",
        "            if features == \"BERT\":\n",
        "                #Run this line of code if model is not downloaded\n",
        "                # finetune_bert(model_bert, criterion_bert, optimizer_bert, num_epochs=15)\n",
        "                model = torch.load(\"BERT\")\n",
        "                print('Training ' + classifier)\n",
        "            else:\n",
        "                continue\n",
        "\n",
        "        else:\n",
        "            print('Unknown classifier name' + classifier)\n",
        "            continue\n",
        "\n",
        "        # Predition performance of the classifiers\n",
        "        for testset in testsets:\n",
        "            if features == \"Sentence Embedding\":\n",
        "                X_test_embedding = pretrained.encode(sentence_preprocess(tweets[testset]))\n",
        "                pred = model.predict(X_test_embedding)\n",
        "                pred = Encoder.inverse_transform(pred)\n",
        "                \n",
        "                #Make predictions on our developing data and transform it back to the original label\n",
        "                id_preds = {tweetids[testset][i]: pred[i] for i in range(len(pred))}\n",
        "\n",
        "                testset_name = testset\n",
        "                testset_path = join('semeval-tweets', testset_name)\n",
        "                evaluate(id_preds, testset_path, features + '-' + classifier)\n",
        "            \n",
        "            elif features == \"BoW\":\n",
        "                X_test_bow = tfidf_vector.transform(sentence_preprocess(tweets[testset]))\n",
        "                pred = model.predict(X_test_bow)\n",
        "                pred = Encoder.inverse_transform(pred)\n",
        "                \n",
        "                #Make predictions on our developing data and transform it back to the original label\n",
        "                id_preds = {tweetids[testset][i]: pred[i] for i in range(len(pred))}\n",
        "\n",
        "                testset_name = testset\n",
        "                testset_path = join('semeval-tweets', testset_name)\n",
        "                evaluate(id_preds, testset_path, features + '-' + classifier)\n",
        "            \n",
        "            elif features == \"GloVe\":\n",
        "                X_test_pp = emb_preprocess(tweets[testset])\n",
        "                test_data = TextDataset(X_test_pp, Encoder.transform(tweetgts[testset]))\n",
        "                test_dataloader = DataLoader(test_data, batch_size=len(tweets[testset]))\n",
        "                \n",
        "                model.eval() \n",
        "\n",
        "                for inputs, labels in test_dataloader:\n",
        "                    inputs = inputs.to(device)\n",
        "                    labels = labels.to(device)\n",
        "\n",
        "                    #Zero out the gradients before the forward pass\n",
        "                    optimizer_lstm.zero_grad()\n",
        "                    outputs = model(inputs)\n",
        "                    _, preds = torch.max(outputs, 1)\n",
        "                    preds = Encoder.inverse_transform(preds.cpu().numpy())\n",
        "\n",
        "                    #Zip the two lists of ids and our predictions into a single dictionary for evaludation\n",
        "                    id_preds = {tweetids[testset][i]: preds[i] for i in range(len(preds))}\n",
        "\n",
        "                    testset_name = testset\n",
        "                    testset_path = join('semeval-tweets', testset_name)\n",
        "                    evaluate(id_preds, testset_path, features + '-' + classifier)\n",
        "\n",
        "            elif features == \"BERT\":\n",
        "                X_test_bert = bert_preprocess(tweets[testset])\n",
        "                test_data = BERTDataset(X_test_bert, Encoder.transform(tweetgts[testset]), bert_tokenizer, max_length=100) \n",
        "                test_dataloader = DataLoader(test_data, batch_size=len(tweets[testset])) \n",
        "                    \n",
        "                model.eval() \n",
        "\n",
        "                for dl in test_dataloader:\n",
        "\n",
        "                    #Retrieve data information from batch\n",
        "                    ids=dl['ids'].to(device)\n",
        "                    token_type_ids=dl['token_type_ids'].to(device)\n",
        "                    mask= dl['mask'].to(device)\n",
        "                    label=dl['target'].to(device)\n",
        "\n",
        "                    #Zero out the gradients before the forward pass\n",
        "                    optimizer_bert.zero_grad()\n",
        "                    outputs = model(ids=ids, mask=mask, token_type_ids=token_type_ids)\n",
        "                    _, preds = torch.max(outputs, 1)\n",
        "                    preds = Encoder.inverse_transform(preds.cpu().numpy())\n",
        "\n",
        "                    #Zip the two lists of ids and our predictions into a single dictionary for evaludation\n",
        "                    id_preds = {tweetids[testset][i]: preds[i] for i in range(len(preds))}\n",
        "\n",
        "                    testset_name = testset\n",
        "                    testset_path = join('semeval-tweets', testset_name)\n",
        "                    evaluate(id_preds, testset_path, features + '-' + classifier)"
      ]
    }
  ],
  "metadata": {
    "accelerator": "GPU",
    "colab": {
      "machine_shape": "hm",
      "provenance": [],
      "include_colab_link": true
    },
    "gpuClass": "premium",
    "kernelspec": {
      "display_name": "Python 3 (ipykernel)",
      "language": "python",
      "name": "python3"
    },
    "language_info": {
      "codemirror_mode": {
        "name": "ipython",
        "version": 3
      },
      "file_extension": ".py",
      "mimetype": "text/x-python",
      "name": "python",
      "nbconvert_exporter": "python",
      "pygments_lexer": "ipython3",
      "version": "3.9.6"
    }
  },
  "nbformat": 4,
  "nbformat_minor": 0
}